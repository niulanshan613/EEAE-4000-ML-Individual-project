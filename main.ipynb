{
 "cells": [
  {
   "cell_type": "code",
   "execution_count": 287,
   "id": "84304cd8",
   "metadata": {},
   "outputs": [],
   "source": [
    "import pandas as pd\n",
    "import datetime as dt\n",
    "import numpy as np\n",
    "import datetime as dt\n",
    "import matplotlib.pyplot as plt\n",
    "import seaborn as sns\n",
    "from scipy.stats import skew, kurtosis, shapiro"
   ]
  },
  {
   "cell_type": "code",
   "execution_count": 288,
   "id": "0dc9ca3f",
   "metadata": {},
   "outputs": [
    {
     "name": "stdout",
     "output_type": "stream",
     "text": [
      "1.4.2\n",
      "1.22.3\n",
      "0.11.2\n"
     ]
    }
   ],
   "source": [
    "print(pd.__version__)\n",
    "print(np.__version__)\n",
    "print(sns.__version__)\n"
   ]
  },
  {
   "cell_type": "code",
   "execution_count": 289,
   "id": "18b102d1",
   "metadata": {},
   "outputs": [],
   "source": [
    "def read_weather_excel(file_path):\n",
    "    weather_names = ['date', 'temp_max', 'temp_min', 'temp_avg', 'temp_departure', \n",
    "                     'HDD', 'CDD', 'precipitation', 'new_snow', 'snow_depth']\n",
    "    weather_list = []\n",
    "\n",
    "    for i in range(12):\n",
    "        weather = pd.read_excel(file_path, skiprows=3, header=None, names=weather_names, sheet_name=i)\n",
    "        weather_list.append(weather)\n",
    "    weather_df = pd.concat(weather_list, axis=0)\n",
    "    weather_df = weather_df[~weather_df['date'].isin(['Sum', 'Average', 'Normal'])]\n",
    "    return weather_df"
   ]
  },
  {
   "cell_type": "code",
   "execution_count": 290,
   "id": "f86a6f6e",
   "metadata": {},
   "outputs": [],
   "source": [
    "weather_18 = read_weather_excel('./Weather 2018-NYC.xlsx')\n",
    "weather_19 = read_weather_excel('./Weather 2019-NYC.xlsx')\n",
    "weather = pd.concat([weather_18, weather_19], axis=0)\n",
    "weather['date'] = pd.to_datetime(weather['date'])"
   ]
  },
  {
   "cell_type": "code",
   "execution_count": 291,
   "id": "5704e567",
   "metadata": {
    "scrolled": true
   },
   "outputs": [
    {
     "data": {
      "text/html": [
       "<div>\n",
       "<style scoped>\n",
       "    .dataframe tbody tr th:only-of-type {\n",
       "        vertical-align: middle;\n",
       "    }\n",
       "\n",
       "    .dataframe tbody tr th {\n",
       "        vertical-align: top;\n",
       "    }\n",
       "\n",
       "    .dataframe thead th {\n",
       "        text-align: right;\n",
       "    }\n",
       "</style>\n",
       "<table border=\"1\" class=\"dataframe\">\n",
       "  <thead>\n",
       "    <tr style=\"text-align: right;\">\n",
       "      <th></th>\n",
       "      <th>date</th>\n",
       "      <th>temp_max</th>\n",
       "      <th>temp_min</th>\n",
       "      <th>temp_avg</th>\n",
       "      <th>temp_departure</th>\n",
       "      <th>HDD</th>\n",
       "      <th>CDD</th>\n",
       "      <th>precipitation</th>\n",
       "      <th>new_snow</th>\n",
       "      <th>snow_depth</th>\n",
       "    </tr>\n",
       "  </thead>\n",
       "  <tbody>\n",
       "    <tr>\n",
       "      <th>0</th>\n",
       "      <td>2018-01-01</td>\n",
       "      <td>19.0</td>\n",
       "      <td>7.0</td>\n",
       "      <td>13</td>\n",
       "      <td>-22.2</td>\n",
       "      <td>52</td>\n",
       "      <td>0</td>\n",
       "      <td>0</td>\n",
       "      <td>0</td>\n",
       "      <td>T</td>\n",
       "    </tr>\n",
       "    <tr>\n",
       "      <th>1</th>\n",
       "      <td>2018-01-02</td>\n",
       "      <td>26.0</td>\n",
       "      <td>13.0</td>\n",
       "      <td>19.5</td>\n",
       "      <td>-15.5</td>\n",
       "      <td>45</td>\n",
       "      <td>0</td>\n",
       "      <td>0</td>\n",
       "      <td>0</td>\n",
       "      <td>0</td>\n",
       "    </tr>\n",
       "    <tr>\n",
       "      <th>2</th>\n",
       "      <td>2018-01-03</td>\n",
       "      <td>30.0</td>\n",
       "      <td>16.0</td>\n",
       "      <td>23</td>\n",
       "      <td>-11.8</td>\n",
       "      <td>42</td>\n",
       "      <td>0</td>\n",
       "      <td>0</td>\n",
       "      <td>0</td>\n",
       "      <td>T</td>\n",
       "    </tr>\n",
       "    <tr>\n",
       "      <th>3</th>\n",
       "      <td>2018-01-04</td>\n",
       "      <td>29.0</td>\n",
       "      <td>19.0</td>\n",
       "      <td>24</td>\n",
       "      <td>-10.7</td>\n",
       "      <td>41</td>\n",
       "      <td>0</td>\n",
       "      <td>0.76</td>\n",
       "      <td>9.8</td>\n",
       "      <td>1</td>\n",
       "    </tr>\n",
       "    <tr>\n",
       "      <th>4</th>\n",
       "      <td>2018-01-05</td>\n",
       "      <td>19.0</td>\n",
       "      <td>9.0</td>\n",
       "      <td>14</td>\n",
       "      <td>-20.5</td>\n",
       "      <td>51</td>\n",
       "      <td>0</td>\n",
       "      <td>0</td>\n",
       "      <td>0</td>\n",
       "      <td>7</td>\n",
       "    </tr>\n",
       "  </tbody>\n",
       "</table>\n",
       "</div>"
      ],
      "text/plain": [
       "        date  temp_max  temp_min temp_avg temp_departure HDD CDD  \\\n",
       "0 2018-01-01      19.0       7.0       13          -22.2  52   0   \n",
       "1 2018-01-02      26.0      13.0     19.5          -15.5  45   0   \n",
       "2 2018-01-03      30.0      16.0       23          -11.8  42   0   \n",
       "3 2018-01-04      29.0      19.0       24          -10.7  41   0   \n",
       "4 2018-01-05      19.0       9.0       14          -20.5  51   0   \n",
       "\n",
       "  precipitation new_snow snow_depth  \n",
       "0             0        0          T  \n",
       "1             0        0          0  \n",
       "2             0        0          T  \n",
       "3          0.76      9.8          1  \n",
       "4             0        0          7  "
      ]
     },
     "execution_count": 291,
     "metadata": {},
     "output_type": "execute_result"
    }
   ],
   "source": [
    "weather.head()"
   ]
  },
  {
   "cell_type": "code",
   "execution_count": 292,
   "id": "118955c9",
   "metadata": {},
   "outputs": [],
   "source": [
    "demand = pd.read_excel('./ColumbiaDemand.xlsx', header=0, usecols=[0, 1], names=['date', 'demand'])\n",
    "demand['date'] = pd.to_datetime(demand['date'])"
   ]
  },
  {
   "cell_type": "code",
   "execution_count": 293,
   "id": "043d1695",
   "metadata": {},
   "outputs": [
    {
     "data": {
      "text/html": [
       "<div>\n",
       "<style scoped>\n",
       "    .dataframe tbody tr th:only-of-type {\n",
       "        vertical-align: middle;\n",
       "    }\n",
       "\n",
       "    .dataframe tbody tr th {\n",
       "        vertical-align: top;\n",
       "    }\n",
       "\n",
       "    .dataframe thead th {\n",
       "        text-align: right;\n",
       "    }\n",
       "</style>\n",
       "<table border=\"1\" class=\"dataframe\">\n",
       "  <thead>\n",
       "    <tr style=\"text-align: right;\">\n",
       "      <th></th>\n",
       "      <th>date</th>\n",
       "      <th>demand</th>\n",
       "    </tr>\n",
       "  </thead>\n",
       "  <tbody>\n",
       "    <tr>\n",
       "      <th>0</th>\n",
       "      <td>2018-01-01</td>\n",
       "      <td>72686.88</td>\n",
       "    </tr>\n",
       "    <tr>\n",
       "      <th>1</th>\n",
       "      <td>2018-01-02</td>\n",
       "      <td>73594.08</td>\n",
       "    </tr>\n",
       "    <tr>\n",
       "      <th>2</th>\n",
       "      <td>2018-01-03</td>\n",
       "      <td>73440.00</td>\n",
       "    </tr>\n",
       "    <tr>\n",
       "      <th>3</th>\n",
       "      <td>2018-01-04</td>\n",
       "      <td>73967.04</td>\n",
       "    </tr>\n",
       "    <tr>\n",
       "      <th>4</th>\n",
       "      <td>2018-01-05</td>\n",
       "      <td>74625.12</td>\n",
       "    </tr>\n",
       "    <tr>\n",
       "      <th>...</th>\n",
       "      <td>...</td>\n",
       "      <td>...</td>\n",
       "    </tr>\n",
       "    <tr>\n",
       "      <th>725</th>\n",
       "      <td>2019-12-27</td>\n",
       "      <td>81070.56</td>\n",
       "    </tr>\n",
       "    <tr>\n",
       "      <th>726</th>\n",
       "      <td>2019-12-28</td>\n",
       "      <td>79395.84</td>\n",
       "    </tr>\n",
       "    <tr>\n",
       "      <th>727</th>\n",
       "      <td>2019-12-29</td>\n",
       "      <td>75379.68</td>\n",
       "    </tr>\n",
       "    <tr>\n",
       "      <th>728</th>\n",
       "      <td>2019-12-30</td>\n",
       "      <td>76459.68</td>\n",
       "    </tr>\n",
       "    <tr>\n",
       "      <th>729</th>\n",
       "      <td>2019-12-31</td>\n",
       "      <td>76563.36</td>\n",
       "    </tr>\n",
       "  </tbody>\n",
       "</table>\n",
       "<p>730 rows × 2 columns</p>\n",
       "</div>"
      ],
      "text/plain": [
       "          date    demand\n",
       "0   2018-01-01  72686.88\n",
       "1   2018-01-02  73594.08\n",
       "2   2018-01-03  73440.00\n",
       "3   2018-01-04  73967.04\n",
       "4   2018-01-05  74625.12\n",
       "..         ...       ...\n",
       "725 2019-12-27  81070.56\n",
       "726 2019-12-28  79395.84\n",
       "727 2019-12-29  75379.68\n",
       "728 2019-12-30  76459.68\n",
       "729 2019-12-31  76563.36\n",
       "\n",
       "[730 rows x 2 columns]"
      ]
     },
     "execution_count": 293,
     "metadata": {},
     "output_type": "execute_result"
    }
   ],
   "source": [
    "demand"
   ]
  },
  {
   "cell_type": "code",
   "execution_count": 294,
   "id": "09b8de10",
   "metadata": {},
   "outputs": [],
   "source": [
    "data = pd.merge(demand, weather, how='left', on='date')"
   ]
  },
  {
   "cell_type": "code",
   "execution_count": 295,
   "id": "59130ec8",
   "metadata": {
    "scrolled": false
   },
   "outputs": [
    {
     "data": {
      "text/html": [
       "<div>\n",
       "<style scoped>\n",
       "    .dataframe tbody tr th:only-of-type {\n",
       "        vertical-align: middle;\n",
       "    }\n",
       "\n",
       "    .dataframe tbody tr th {\n",
       "        vertical-align: top;\n",
       "    }\n",
       "\n",
       "    .dataframe thead th {\n",
       "        text-align: right;\n",
       "    }\n",
       "</style>\n",
       "<table border=\"1\" class=\"dataframe\">\n",
       "  <thead>\n",
       "    <tr style=\"text-align: right;\">\n",
       "      <th></th>\n",
       "      <th>demand</th>\n",
       "      <th>temp_max</th>\n",
       "      <th>temp_min</th>\n",
       "      <th>temp_avg</th>\n",
       "      <th>temp_departure</th>\n",
       "      <th>HDD</th>\n",
       "      <th>CDD</th>\n",
       "      <th>precipitation</th>\n",
       "      <th>new_snow</th>\n",
       "      <th>snow_depth</th>\n",
       "    </tr>\n",
       "    <tr>\n",
       "      <th>date</th>\n",
       "      <th></th>\n",
       "      <th></th>\n",
       "      <th></th>\n",
       "      <th></th>\n",
       "      <th></th>\n",
       "      <th></th>\n",
       "      <th></th>\n",
       "      <th></th>\n",
       "      <th></th>\n",
       "      <th></th>\n",
       "    </tr>\n",
       "  </thead>\n",
       "  <tbody>\n",
       "    <tr>\n",
       "      <th>2018-01-01</th>\n",
       "      <td>-0.420324</td>\n",
       "      <td>-2.383882</td>\n",
       "      <td>-2.462359</td>\n",
       "      <td>-2.446059</td>\n",
       "      <td>-3.036963</td>\n",
       "      <td>2.933816</td>\n",
       "      <td>-0.63958</td>\n",
       "      <td>-0.450433</td>\n",
       "      <td>-0.120433</td>\n",
       "      <td>-0.161001</td>\n",
       "    </tr>\n",
       "    <tr>\n",
       "      <th>2018-01-02</th>\n",
       "      <td>-0.342370</td>\n",
       "      <td>-2.001593</td>\n",
       "      <td>-2.110708</td>\n",
       "      <td>-2.074857</td>\n",
       "      <td>-2.118787</td>\n",
       "      <td>2.412363</td>\n",
       "      <td>-0.63958</td>\n",
       "      <td>-0.450433</td>\n",
       "      <td>-0.120433</td>\n",
       "      <td>-0.161001</td>\n",
       "    </tr>\n",
       "    <tr>\n",
       "      <th>2018-01-03</th>\n",
       "      <td>-0.355610</td>\n",
       "      <td>-1.783142</td>\n",
       "      <td>-1.934883</td>\n",
       "      <td>-1.874979</td>\n",
       "      <td>-1.611735</td>\n",
       "      <td>2.188882</td>\n",
       "      <td>-0.63958</td>\n",
       "      <td>-0.450433</td>\n",
       "      <td>-0.120433</td>\n",
       "      <td>-0.161001</td>\n",
       "    </tr>\n",
       "    <tr>\n",
       "      <th>2018-01-04</th>\n",
       "      <td>-0.310322</td>\n",
       "      <td>-1.837755</td>\n",
       "      <td>-1.759058</td>\n",
       "      <td>-1.817871</td>\n",
       "      <td>-1.460990</td>\n",
       "      <td>2.114389</td>\n",
       "      <td>-0.63958</td>\n",
       "      <td>1.657007</td>\n",
       "      <td>15.210177</td>\n",
       "      <td>1.255034</td>\n",
       "    </tr>\n",
       "    <tr>\n",
       "      <th>2018-01-05</th>\n",
       "      <td>-0.253775</td>\n",
       "      <td>-2.383882</td>\n",
       "      <td>-2.345143</td>\n",
       "      <td>-2.388951</td>\n",
       "      <td>-2.803993</td>\n",
       "      <td>2.859323</td>\n",
       "      <td>-0.63958</td>\n",
       "      <td>-0.450433</td>\n",
       "      <td>-0.120433</td>\n",
       "      <td>9.751243</td>\n",
       "    </tr>\n",
       "  </tbody>\n",
       "</table>\n",
       "</div>"
      ],
      "text/plain": [
       "              demand  temp_max  temp_min  temp_avg  temp_departure       HDD  \\\n",
       "date                                                                           \n",
       "2018-01-01 -0.420324 -2.383882 -2.462359 -2.446059       -3.036963  2.933816   \n",
       "2018-01-02 -0.342370 -2.001593 -2.110708 -2.074857       -2.118787  2.412363   \n",
       "2018-01-03 -0.355610 -1.783142 -1.934883 -1.874979       -1.611735  2.188882   \n",
       "2018-01-04 -0.310322 -1.837755 -1.759058 -1.817871       -1.460990  2.114389   \n",
       "2018-01-05 -0.253775 -2.383882 -2.345143 -2.388951       -2.803993  2.859323   \n",
       "\n",
       "                CDD  precipitation   new_snow  snow_depth  \n",
       "date                                                       \n",
       "2018-01-01 -0.63958      -0.450433  -0.120433   -0.161001  \n",
       "2018-01-02 -0.63958      -0.450433  -0.120433   -0.161001  \n",
       "2018-01-03 -0.63958      -0.450433  -0.120433   -0.161001  \n",
       "2018-01-04 -0.63958       1.657007  15.210177    1.255034  \n",
       "2018-01-05 -0.63958      -0.450433  -0.120433    9.751243  "
      ]
     },
     "execution_count": 295,
     "metadata": {},
     "output_type": "execute_result"
    }
   ],
   "source": [
    "data = data.replace('T', 0)\n",
    "sub_col = ['demand', 'temp_min', 'temp_max', 'temp_avg', 'temp_departure', 'HDD', 'CDD', 'precipitation', 'new_snow', 'snow_depth']\n",
    "data.loc[:, sub_col] = data.loc[:, sub_col].astype('float32')\n",
    "\n",
    "data = data.fillna(0)\n",
    "assert data.isnull().sum().sum() == 0\n",
    "data = data.set_index(data.date).loc[:, data.columns[1:]]\n",
    "data = data.add(-data.mean(axis=0)).div(data.std(axis=0))\n",
    "data.head()\n"
   ]
  },
  {
   "cell_type": "markdown",
   "id": "9aab8d20",
   "metadata": {},
   "source": [
    "### Optional: merge with calendar info"
   ]
  },
  {
   "cell_type": "code",
   "execution_count": 296,
   "id": "3d0f8746",
   "metadata": {},
   "outputs": [
    {
     "data": {
      "text/html": [
       "<div>\n",
       "<style scoped>\n",
       "    .dataframe tbody tr th:only-of-type {\n",
       "        vertical-align: middle;\n",
       "    }\n",
       "\n",
       "    .dataframe tbody tr th {\n",
       "        vertical-align: top;\n",
       "    }\n",
       "\n",
       "    .dataframe thead th {\n",
       "        text-align: right;\n",
       "    }\n",
       "</style>\n",
       "<table border=\"1\" class=\"dataframe\">\n",
       "  <thead>\n",
       "    <tr style=\"text-align: right;\">\n",
       "      <th></th>\n",
       "      <th>class</th>\n",
       "      <th>dayoff</th>\n",
       "      <th>Friday</th>\n",
       "      <th>Monday</th>\n",
       "      <th>Saturday</th>\n",
       "      <th>Sunday</th>\n",
       "      <th>Thursday</th>\n",
       "      <th>Tuesday</th>\n",
       "      <th>Wedesday</th>\n",
       "      <th>Wednesday</th>\n",
       "    </tr>\n",
       "    <tr>\n",
       "      <th>date</th>\n",
       "      <th></th>\n",
       "      <th></th>\n",
       "      <th></th>\n",
       "      <th></th>\n",
       "      <th></th>\n",
       "      <th></th>\n",
       "      <th></th>\n",
       "      <th></th>\n",
       "      <th></th>\n",
       "      <th></th>\n",
       "    </tr>\n",
       "  </thead>\n",
       "  <tbody>\n",
       "    <tr>\n",
       "      <th>2018-01-01</th>\n",
       "      <td>0</td>\n",
       "      <td>0</td>\n",
       "      <td>0</td>\n",
       "      <td>1</td>\n",
       "      <td>0</td>\n",
       "      <td>0</td>\n",
       "      <td>0</td>\n",
       "      <td>0</td>\n",
       "      <td>0</td>\n",
       "      <td>0</td>\n",
       "    </tr>\n",
       "    <tr>\n",
       "      <th>2018-01-02</th>\n",
       "      <td>0</td>\n",
       "      <td>0</td>\n",
       "      <td>0</td>\n",
       "      <td>0</td>\n",
       "      <td>0</td>\n",
       "      <td>0</td>\n",
       "      <td>0</td>\n",
       "      <td>1</td>\n",
       "      <td>0</td>\n",
       "      <td>0</td>\n",
       "    </tr>\n",
       "    <tr>\n",
       "      <th>2018-01-03</th>\n",
       "      <td>0</td>\n",
       "      <td>0</td>\n",
       "      <td>0</td>\n",
       "      <td>0</td>\n",
       "      <td>0</td>\n",
       "      <td>0</td>\n",
       "      <td>0</td>\n",
       "      <td>0</td>\n",
       "      <td>1</td>\n",
       "      <td>0</td>\n",
       "    </tr>\n",
       "    <tr>\n",
       "      <th>2018-01-04</th>\n",
       "      <td>0</td>\n",
       "      <td>0</td>\n",
       "      <td>0</td>\n",
       "      <td>0</td>\n",
       "      <td>0</td>\n",
       "      <td>0</td>\n",
       "      <td>1</td>\n",
       "      <td>0</td>\n",
       "      <td>0</td>\n",
       "      <td>0</td>\n",
       "    </tr>\n",
       "    <tr>\n",
       "      <th>2018-01-05</th>\n",
       "      <td>0</td>\n",
       "      <td>0</td>\n",
       "      <td>1</td>\n",
       "      <td>0</td>\n",
       "      <td>0</td>\n",
       "      <td>0</td>\n",
       "      <td>0</td>\n",
       "      <td>0</td>\n",
       "      <td>0</td>\n",
       "      <td>0</td>\n",
       "    </tr>\n",
       "  </tbody>\n",
       "</table>\n",
       "</div>"
      ],
      "text/plain": [
       "            class  dayoff  Friday  Monday  Saturday  Sunday  Thursday  \\\n",
       "date                                                                    \n",
       "2018-01-01      0       0       0       1         0       0         0   \n",
       "2018-01-02      0       0       0       0         0       0         0   \n",
       "2018-01-03      0       0       0       0         0       0         0   \n",
       "2018-01-04      0       0       0       0         0       0         1   \n",
       "2018-01-05      0       0       1       0         0       0         0   \n",
       "\n",
       "            Tuesday  Wedesday  Wednesday  \n",
       "date                                      \n",
       "2018-01-01        0         0          0  \n",
       "2018-01-02        1         0          0  \n",
       "2018-01-03        0         1          0  \n",
       "2018-01-04        0         0          0  \n",
       "2018-01-05        0         0          0  "
      ]
     },
     "execution_count": 296,
     "metadata": {},
     "output_type": "execute_result"
    }
   ],
   "source": [
    "calendar = pd.read_excel('./calendar.xlsx')\n",
    "calendar['dayoff'] = (calendar['holiday'] | calendar['weekend'])\n",
    "cal_data = pd.concat([calendar.loc[:, ['date', 'class', 'dayoff']],\n",
    "                      pd.get_dummies(calendar.day_of_the_week)], axis=1)\n",
    "cal_data = cal_data.set_index(calendar.date).loc[:, cal_data.columns[1:]]\n",
    "cal_data.head()"
   ]
  },
  {
   "cell_type": "code",
   "execution_count": 297,
   "id": "b129d445",
   "metadata": {},
   "outputs": [],
   "source": [
    "data = pd.merge(data, cal_data, how='inner', on='date')"
   ]
  },
  {
   "cell_type": "code",
   "execution_count": 298,
   "id": "481348e2",
   "metadata": {},
   "outputs": [
    {
     "data": {
      "text/html": [
       "<div>\n",
       "<style scoped>\n",
       "    .dataframe tbody tr th:only-of-type {\n",
       "        vertical-align: middle;\n",
       "    }\n",
       "\n",
       "    .dataframe tbody tr th {\n",
       "        vertical-align: top;\n",
       "    }\n",
       "\n",
       "    .dataframe thead th {\n",
       "        text-align: right;\n",
       "    }\n",
       "</style>\n",
       "<table border=\"1\" class=\"dataframe\">\n",
       "  <thead>\n",
       "    <tr style=\"text-align: right;\">\n",
       "      <th></th>\n",
       "      <th>demand</th>\n",
       "      <th>temp_max</th>\n",
       "      <th>temp_min</th>\n",
       "      <th>temp_avg</th>\n",
       "      <th>temp_departure</th>\n",
       "      <th>HDD</th>\n",
       "      <th>CDD</th>\n",
       "      <th>precipitation</th>\n",
       "      <th>new_snow</th>\n",
       "      <th>snow_depth</th>\n",
       "      <th>class</th>\n",
       "      <th>dayoff</th>\n",
       "      <th>Friday</th>\n",
       "      <th>Monday</th>\n",
       "      <th>Saturday</th>\n",
       "      <th>Sunday</th>\n",
       "      <th>Thursday</th>\n",
       "      <th>Tuesday</th>\n",
       "      <th>Wedesday</th>\n",
       "      <th>Wednesday</th>\n",
       "    </tr>\n",
       "    <tr>\n",
       "      <th>date</th>\n",
       "      <th></th>\n",
       "      <th></th>\n",
       "      <th></th>\n",
       "      <th></th>\n",
       "      <th></th>\n",
       "      <th></th>\n",
       "      <th></th>\n",
       "      <th></th>\n",
       "      <th></th>\n",
       "      <th></th>\n",
       "      <th></th>\n",
       "      <th></th>\n",
       "      <th></th>\n",
       "      <th></th>\n",
       "      <th></th>\n",
       "      <th></th>\n",
       "      <th></th>\n",
       "      <th></th>\n",
       "      <th></th>\n",
       "      <th></th>\n",
       "    </tr>\n",
       "  </thead>\n",
       "  <tbody>\n",
       "    <tr>\n",
       "      <th>2018-01-01</th>\n",
       "      <td>-0.420324</td>\n",
       "      <td>-2.383882</td>\n",
       "      <td>-2.462359</td>\n",
       "      <td>-2.446059</td>\n",
       "      <td>-3.036963</td>\n",
       "      <td>2.933816</td>\n",
       "      <td>-0.63958</td>\n",
       "      <td>-0.450433</td>\n",
       "      <td>-0.120433</td>\n",
       "      <td>-0.161001</td>\n",
       "      <td>0</td>\n",
       "      <td>0</td>\n",
       "      <td>0</td>\n",
       "      <td>1</td>\n",
       "      <td>0</td>\n",
       "      <td>0</td>\n",
       "      <td>0</td>\n",
       "      <td>0</td>\n",
       "      <td>0</td>\n",
       "      <td>0</td>\n",
       "    </tr>\n",
       "    <tr>\n",
       "      <th>2018-01-02</th>\n",
       "      <td>-0.342370</td>\n",
       "      <td>-2.001593</td>\n",
       "      <td>-2.110708</td>\n",
       "      <td>-2.074857</td>\n",
       "      <td>-2.118787</td>\n",
       "      <td>2.412363</td>\n",
       "      <td>-0.63958</td>\n",
       "      <td>-0.450433</td>\n",
       "      <td>-0.120433</td>\n",
       "      <td>-0.161001</td>\n",
       "      <td>0</td>\n",
       "      <td>0</td>\n",
       "      <td>0</td>\n",
       "      <td>0</td>\n",
       "      <td>0</td>\n",
       "      <td>0</td>\n",
       "      <td>0</td>\n",
       "      <td>1</td>\n",
       "      <td>0</td>\n",
       "      <td>0</td>\n",
       "    </tr>\n",
       "    <tr>\n",
       "      <th>2018-01-03</th>\n",
       "      <td>-0.355610</td>\n",
       "      <td>-1.783142</td>\n",
       "      <td>-1.934883</td>\n",
       "      <td>-1.874979</td>\n",
       "      <td>-1.611735</td>\n",
       "      <td>2.188882</td>\n",
       "      <td>-0.63958</td>\n",
       "      <td>-0.450433</td>\n",
       "      <td>-0.120433</td>\n",
       "      <td>-0.161001</td>\n",
       "      <td>0</td>\n",
       "      <td>0</td>\n",
       "      <td>0</td>\n",
       "      <td>0</td>\n",
       "      <td>0</td>\n",
       "      <td>0</td>\n",
       "      <td>0</td>\n",
       "      <td>0</td>\n",
       "      <td>1</td>\n",
       "      <td>0</td>\n",
       "    </tr>\n",
       "    <tr>\n",
       "      <th>2018-01-04</th>\n",
       "      <td>-0.310322</td>\n",
       "      <td>-1.837755</td>\n",
       "      <td>-1.759058</td>\n",
       "      <td>-1.817871</td>\n",
       "      <td>-1.460990</td>\n",
       "      <td>2.114389</td>\n",
       "      <td>-0.63958</td>\n",
       "      <td>1.657007</td>\n",
       "      <td>15.210177</td>\n",
       "      <td>1.255034</td>\n",
       "      <td>0</td>\n",
       "      <td>0</td>\n",
       "      <td>0</td>\n",
       "      <td>0</td>\n",
       "      <td>0</td>\n",
       "      <td>0</td>\n",
       "      <td>1</td>\n",
       "      <td>0</td>\n",
       "      <td>0</td>\n",
       "      <td>0</td>\n",
       "    </tr>\n",
       "    <tr>\n",
       "      <th>2018-01-05</th>\n",
       "      <td>-0.253775</td>\n",
       "      <td>-2.383882</td>\n",
       "      <td>-2.345143</td>\n",
       "      <td>-2.388951</td>\n",
       "      <td>-2.803993</td>\n",
       "      <td>2.859323</td>\n",
       "      <td>-0.63958</td>\n",
       "      <td>-0.450433</td>\n",
       "      <td>-0.120433</td>\n",
       "      <td>9.751243</td>\n",
       "      <td>0</td>\n",
       "      <td>0</td>\n",
       "      <td>1</td>\n",
       "      <td>0</td>\n",
       "      <td>0</td>\n",
       "      <td>0</td>\n",
       "      <td>0</td>\n",
       "      <td>0</td>\n",
       "      <td>0</td>\n",
       "      <td>0</td>\n",
       "    </tr>\n",
       "  </tbody>\n",
       "</table>\n",
       "</div>"
      ],
      "text/plain": [
       "              demand  temp_max  temp_min  temp_avg  temp_departure       HDD  \\\n",
       "date                                                                           \n",
       "2018-01-01 -0.420324 -2.383882 -2.462359 -2.446059       -3.036963  2.933816   \n",
       "2018-01-02 -0.342370 -2.001593 -2.110708 -2.074857       -2.118787  2.412363   \n",
       "2018-01-03 -0.355610 -1.783142 -1.934883 -1.874979       -1.611735  2.188882   \n",
       "2018-01-04 -0.310322 -1.837755 -1.759058 -1.817871       -1.460990  2.114389   \n",
       "2018-01-05 -0.253775 -2.383882 -2.345143 -2.388951       -2.803993  2.859323   \n",
       "\n",
       "                CDD  precipitation   new_snow  snow_depth  class  dayoff  \\\n",
       "date                                                                       \n",
       "2018-01-01 -0.63958      -0.450433  -0.120433   -0.161001      0       0   \n",
       "2018-01-02 -0.63958      -0.450433  -0.120433   -0.161001      0       0   \n",
       "2018-01-03 -0.63958      -0.450433  -0.120433   -0.161001      0       0   \n",
       "2018-01-04 -0.63958       1.657007  15.210177    1.255034      0       0   \n",
       "2018-01-05 -0.63958      -0.450433  -0.120433    9.751243      0       0   \n",
       "\n",
       "            Friday  Monday  Saturday  Sunday  Thursday  Tuesday  Wedesday  \\\n",
       "date                                                                        \n",
       "2018-01-01       0       1         0       0         0        0         0   \n",
       "2018-01-02       0       0         0       0         0        1         0   \n",
       "2018-01-03       0       0         0       0         0        0         1   \n",
       "2018-01-04       0       0         0       0         1        0         0   \n",
       "2018-01-05       1       0         0       0         0        0         0   \n",
       "\n",
       "            Wednesday  \n",
       "date                   \n",
       "2018-01-01          0  \n",
       "2018-01-02          0  \n",
       "2018-01-03          0  \n",
       "2018-01-04          0  \n",
       "2018-01-05          0  "
      ]
     },
     "execution_count": 298,
     "metadata": {},
     "output_type": "execute_result"
    }
   ],
   "source": [
    "data.head()"
   ]
  },
  {
   "cell_type": "code",
   "execution_count": 299,
   "id": "f37e526b",
   "metadata": {},
   "outputs": [
    {
     "data": {
      "text/plain": [
       "Index(['demand', 'temp_max', 'temp_min', 'temp_avg', 'temp_departure', 'HDD',\n",
       "       'CDD', 'precipitation', 'new_snow', 'snow_depth', 'class', 'dayoff',\n",
       "       'Friday', 'Monday', 'Saturday', 'Sunday', 'Thursday', 'Tuesday',\n",
       "       'Wedesday', 'Wednesday'],\n",
       "      dtype='object')"
      ]
     },
     "execution_count": 299,
     "metadata": {},
     "output_type": "execute_result"
    }
   ],
   "source": [
    "data.columns"
   ]
  },
  {
   "cell_type": "markdown",
   "id": "de2fdeed",
   "metadata": {},
   "source": [
    "### Energy Demand"
   ]
  },
  {
   "cell_type": "code",
   "execution_count": 300,
   "id": "8bd6d7b0",
   "metadata": {},
   "outputs": [
    {
     "data": {
      "image/png": "[encoded data removed]",
      "text/plain": [
       "<Figure size 432x288 with 1 Axes>"
      ]
     },
     "metadata": {
      "needs_background": "light"
     },
     "output_type": "display_data"
    }
   ],
   "source": [
    "data.demand.plot(title=\"Energy Demand\")\n",
    "plt.ylabel(\"kWh\")\n",
    "plt.show()"
   ]
  },
  {
   "cell_type": "markdown",
   "id": "ddca685a",
   "metadata": {},
   "source": [
    "### Clean Up"
   ]
  },
  {
   "cell_type": "code",
   "execution_count": 301,
   "id": "e658b817",
   "metadata": {},
   "outputs": [
    {
     "data": {
      "text/html": [
       "<div>\n",
       "<style scoped>\n",
       "    .dataframe tbody tr th:only-of-type {\n",
       "        vertical-align: middle;\n",
       "    }\n",
       "\n",
       "    .dataframe tbody tr th {\n",
       "        vertical-align: top;\n",
       "    }\n",
       "\n",
       "    .dataframe thead th {\n",
       "        text-align: right;\n",
       "    }\n",
       "</style>\n",
       "<table border=\"1\" class=\"dataframe\">\n",
       "  <thead>\n",
       "    <tr style=\"text-align: right;\">\n",
       "      <th></th>\n",
       "      <th>demand</th>\n",
       "      <th>temp_max</th>\n",
       "      <th>temp_min</th>\n",
       "      <th>temp_avg</th>\n",
       "      <th>temp_departure</th>\n",
       "      <th>HDD</th>\n",
       "      <th>CDD</th>\n",
       "      <th>precipitation</th>\n",
       "      <th>new_snow</th>\n",
       "      <th>snow_depth</th>\n",
       "      <th>class</th>\n",
       "      <th>dayoff</th>\n",
       "      <th>Friday</th>\n",
       "      <th>Monday</th>\n",
       "      <th>Saturday</th>\n",
       "      <th>Sunday</th>\n",
       "      <th>Thursday</th>\n",
       "      <th>Tuesday</th>\n",
       "      <th>Wedesday</th>\n",
       "      <th>Wednesday</th>\n",
       "    </tr>\n",
       "    <tr>\n",
       "      <th>date</th>\n",
       "      <th></th>\n",
       "      <th></th>\n",
       "      <th></th>\n",
       "      <th></th>\n",
       "      <th></th>\n",
       "      <th></th>\n",
       "      <th></th>\n",
       "      <th></th>\n",
       "      <th></th>\n",
       "      <th></th>\n",
       "      <th></th>\n",
       "      <th></th>\n",
       "      <th></th>\n",
       "      <th></th>\n",
       "      <th></th>\n",
       "      <th></th>\n",
       "      <th></th>\n",
       "      <th></th>\n",
       "      <th></th>\n",
       "      <th></th>\n",
       "    </tr>\n",
       "  </thead>\n",
       "  <tbody>\n",
       "    <tr>\n",
       "      <th>2018-01-01</th>\n",
       "      <td>-0.420324</td>\n",
       "      <td>-2.383882</td>\n",
       "      <td>-2.462359</td>\n",
       "      <td>-2.446059</td>\n",
       "      <td>-3.036963</td>\n",
       "      <td>2.933816</td>\n",
       "      <td>-0.63958</td>\n",
       "      <td>-0.450433</td>\n",
       "      <td>-0.120433</td>\n",
       "      <td>-0.161001</td>\n",
       "      <td>0</td>\n",
       "      <td>0</td>\n",
       "      <td>0</td>\n",
       "      <td>1</td>\n",
       "      <td>0</td>\n",
       "      <td>0</td>\n",
       "      <td>0</td>\n",
       "      <td>0</td>\n",
       "      <td>0</td>\n",
       "      <td>0</td>\n",
       "    </tr>\n",
       "    <tr>\n",
       "      <th>2018-01-02</th>\n",
       "      <td>-0.342371</td>\n",
       "      <td>-2.001593</td>\n",
       "      <td>-2.110708</td>\n",
       "      <td>-2.074857</td>\n",
       "      <td>-2.118787</td>\n",
       "      <td>2.412363</td>\n",
       "      <td>-0.63958</td>\n",
       "      <td>-0.450433</td>\n",
       "      <td>-0.120433</td>\n",
       "      <td>-0.161001</td>\n",
       "      <td>0</td>\n",
       "      <td>0</td>\n",
       "      <td>0</td>\n",
       "      <td>0</td>\n",
       "      <td>0</td>\n",
       "      <td>0</td>\n",
       "      <td>0</td>\n",
       "      <td>1</td>\n",
       "      <td>0</td>\n",
       "      <td>0</td>\n",
       "    </tr>\n",
       "    <tr>\n",
       "      <th>2018-01-03</th>\n",
       "      <td>-0.355610</td>\n",
       "      <td>-1.783142</td>\n",
       "      <td>-1.934883</td>\n",
       "      <td>-1.874979</td>\n",
       "      <td>-1.611735</td>\n",
       "      <td>2.188882</td>\n",
       "      <td>-0.63958</td>\n",
       "      <td>-0.450433</td>\n",
       "      <td>-0.120433</td>\n",
       "      <td>-0.161001</td>\n",
       "      <td>0</td>\n",
       "      <td>0</td>\n",
       "      <td>0</td>\n",
       "      <td>0</td>\n",
       "      <td>0</td>\n",
       "      <td>0</td>\n",
       "      <td>0</td>\n",
       "      <td>0</td>\n",
       "      <td>1</td>\n",
       "      <td>0</td>\n",
       "    </tr>\n",
       "    <tr>\n",
       "      <th>2018-01-04</th>\n",
       "      <td>-0.310323</td>\n",
       "      <td>-1.837755</td>\n",
       "      <td>-1.759058</td>\n",
       "      <td>-1.817872</td>\n",
       "      <td>-1.460990</td>\n",
       "      <td>2.114389</td>\n",
       "      <td>-0.63958</td>\n",
       "      <td>1.657007</td>\n",
       "      <td>15.210177</td>\n",
       "      <td>1.255034</td>\n",
       "      <td>0</td>\n",
       "      <td>0</td>\n",
       "      <td>0</td>\n",
       "      <td>0</td>\n",
       "      <td>0</td>\n",
       "      <td>0</td>\n",
       "      <td>1</td>\n",
       "      <td>0</td>\n",
       "      <td>0</td>\n",
       "      <td>0</td>\n",
       "    </tr>\n",
       "    <tr>\n",
       "      <th>2018-01-05</th>\n",
       "      <td>-0.253775</td>\n",
       "      <td>-2.383882</td>\n",
       "      <td>-2.345143</td>\n",
       "      <td>-2.388951</td>\n",
       "      <td>-2.803993</td>\n",
       "      <td>2.859323</td>\n",
       "      <td>-0.63958</td>\n",
       "      <td>-0.450433</td>\n",
       "      <td>-0.120433</td>\n",
       "      <td>9.751243</td>\n",
       "      <td>0</td>\n",
       "      <td>0</td>\n",
       "      <td>1</td>\n",
       "      <td>0</td>\n",
       "      <td>0</td>\n",
       "      <td>0</td>\n",
       "      <td>0</td>\n",
       "      <td>0</td>\n",
       "      <td>0</td>\n",
       "      <td>0</td>\n",
       "    </tr>\n",
       "  </tbody>\n",
       "</table>\n",
       "</div>"
      ],
      "text/plain": [
       "              demand  temp_max  temp_min  temp_avg  temp_departure       HDD  \\\n",
       "date                                                                           \n",
       "2018-01-01 -0.420324 -2.383882 -2.462359 -2.446059       -3.036963  2.933816   \n",
       "2018-01-02 -0.342371 -2.001593 -2.110708 -2.074857       -2.118787  2.412363   \n",
       "2018-01-03 -0.355610 -1.783142 -1.934883 -1.874979       -1.611735  2.188882   \n",
       "2018-01-04 -0.310323 -1.837755 -1.759058 -1.817872       -1.460990  2.114389   \n",
       "2018-01-05 -0.253775 -2.383882 -2.345143 -2.388951       -2.803993  2.859323   \n",
       "\n",
       "                CDD  precipitation   new_snow  snow_depth  class  dayoff  \\\n",
       "date                                                                       \n",
       "2018-01-01 -0.63958      -0.450433  -0.120433   -0.161001      0       0   \n",
       "2018-01-02 -0.63958      -0.450433  -0.120433   -0.161001      0       0   \n",
       "2018-01-03 -0.63958      -0.450433  -0.120433   -0.161001      0       0   \n",
       "2018-01-04 -0.63958       1.657007  15.210177    1.255034      0       0   \n",
       "2018-01-05 -0.63958      -0.450433  -0.120433    9.751243      0       0   \n",
       "\n",
       "            Friday  Monday  Saturday  Sunday  Thursday  Tuesday  Wedesday  \\\n",
       "date                                                                        \n",
       "2018-01-01       0       1         0       0         0        0         0   \n",
       "2018-01-02       0       0         0       0         0        1         0   \n",
       "2018-01-03       0       0         0       0         0        0         1   \n",
       "2018-01-04       0       0         0       0         1        0         0   \n",
       "2018-01-05       1       0         0       0         0        0         0   \n",
       "\n",
       "            Wednesday  \n",
       "date                   \n",
       "2018-01-01          0  \n",
       "2018-01-02          0  \n",
       "2018-01-03          0  \n",
       "2018-01-04          0  \n",
       "2018-01-05          0  "
      ]
     },
     "execution_count": 301,
     "metadata": {},
     "output_type": "execute_result"
    }
   ],
   "source": [
    "data = data.replace('T', 0)\n",
    "sub_col = ['demand', 'temp_max', 'temp_avg', 'temp_departure', 'HDD', 'CDD', 'precipitation', 'new_snow', 'snow_depth']\n",
    "data.loc[:, sub_col] = data.loc[:, sub_col].astype('float32')\n",
    "\n",
    "data = data.fillna(0)\n",
    "assert data.isnull().sum().sum() == 0\n",
    "data[sub_col] = data[sub_col].add(-data[sub_col].mean(axis=0)).div(data[sub_col].std(axis=0))\n",
    "data.head()"
   ]
  },
  {
   "cell_type": "markdown",
   "id": "272b5245",
   "metadata": {},
   "source": [
    "EDA: Exploratory Data Analysis\n",
    "* Target Analysis\n",
    "* Seasonality and Trend"
   ]
  },
  {
   "cell_type": "markdown",
   "id": "6df4018b",
   "metadata": {},
   "source": [
    "### Target Analyisis"
   ]
  },
  {
   "cell_type": "code",
   "execution_count": 302,
   "id": "23cd5699",
   "metadata": {},
   "outputs": [
    {
     "name": "stdout",
     "output_type": "stream",
     "text": [
      "Skewness: 0.8996179644559983 \n",
      "Kurtosis: 2.9403044933358395\n"
     ]
    }
   ],
   "source": [
    "mean = np.mean(data.demand.values)\n",
    "std = np.std(data.demand.values)\n",
    "skew_ = skew(data.demand.values)\n",
    "ex_kurt_ = kurtosis(data.demand)\n",
    "print(f'Skewness: {skew_} \\nKurtosis: {ex_kurt_ + 3}')"
   ]
  },
  {
   "cell_type": "code",
   "execution_count": 303,
   "id": "bacb1b8a",
   "metadata": {},
   "outputs": [
    {
     "data": {
      "image/png": "[encoded data removed]",
      "text/plain": [
       "<Figure size 360x360 with 1 Axes>"
      ]
     },
     "metadata": {
      "needs_background": "light"
     },
     "output_type": "display_data"
    }
   ],
   "source": [
    "sns.displot(data.demand)\n",
    "plt.title(\"Target Analysis\")\n",
    "plt.xticks(rotation=45)\n",
    "plt.xlabel(\"(kWh)\")\n",
    "plt.axvline(x=mean, color='r', linestyle='-', label=\"\\mu: {0:.2f}%\".format(mean))\n",
    "plt.axvline(x=mean+2*std, color='orange', linestyle='-')\n",
    "plt.axvline(x=mean-2*std, color='orange', linestyle='-')\n",
    "plt.show()"
   ]
  },
  {
   "cell_type": "markdown",
   "id": "497ddbb6",
   "metadata": {},
   "source": [
    "### Volatility Analysis\n"
   ]
  },
  {
   "cell_type": "code",
   "execution_count": 304,
   "id": "7a942178",
   "metadata": {},
   "outputs": [
    {
     "data": {
      "image/png": "[encoded data removed]",
      "text/plain": [
       "<Figure size 432x288 with 1 Axes>"
      ]
     },
     "metadata": {
      "needs_background": "light"
     },
     "output_type": "display_data"
    }
   ],
   "source": [
    "data_rolling = data.demand.rolling(window=30)\n",
    "data['q10'] = data_rolling.quantile(0.1).to_frame(\"q10\")\n",
    "data['q50'] = data_rolling.quantile(0.5).to_frame(\"q50\")\n",
    "data['q90'] = data_rolling.quantile(0.9).to_frame(\"q90\")\n",
    "\n",
    "data[[\"q10\", \"q50\", \"q90\"]].plot(title=\"Volatility Analysis: monthly-rolling percentiles\")\n",
    "plt.ylabel(\"(kWh)\")\n",
    "plt.show()"
   ]
  },
  {
   "cell_type": "markdown",
   "id": "a57f1fc9",
   "metadata": {},
   "source": [
    "### Time Series Analysis: Seasonality and Trend"
   ]
  },
  {
   "cell_type": "code",
   "execution_count": 305,
   "id": "33c6ea6a",
   "metadata": {},
   "outputs": [
    {
     "data": {
      "image/png": "[encoded data removed]",
      "text/plain": [
       "<Figure size 432x288 with 1 Axes>"
      ]
     },
     "metadata": {
      "needs_background": "light"
     },
     "output_type": "display_data"
    }
   ],
   "source": [
    "data['ma30'] = data.demand.rolling(30).mean()\n",
    "data['ma90'] = data.demand.rolling(90).mean()\n",
    "data[[\"ma30\", \"ma90\"]].plot(title=\"Seasonal Analysis: Moving Averages\")\n",
    "plt.ylabel(\"(kWh)\")\n",
    "plt.show()"
   ]
  },
  {
   "cell_type": "markdown",
   "id": "975d83c2",
   "metadata": {},
   "source": [
    "### Split Data"
   ]
  },
  {
   "cell_type": "code",
   "execution_count": 355,
   "id": "64031b27",
   "metadata": {},
   "outputs": [
    {
     "name": "stdout",
     "output_type": "stream",
     "text": [
      "Total number of observations:  730\n",
      "Train: (547, 19)(547,), \n",
      "Test: (183, 19)(183,)\n"
     ]
    }
   ],
   "source": [
    "features = ['temp_max', 'temp_min', 'temp_avg', 'temp_departure', 'HDD',\n",
    "       'CDD', 'precipitation', 'new_snow', 'snow_depth', 'class', 'dayoff',\n",
    "       'Friday', 'Monday', 'Saturday', 'Sunday', 'Thursday', 'Tuesday',\n",
    "       'Wedesday', 'Wednesday']\n",
    "\n",
    "target = 'demand'\n",
    "n = int(data.shape[0] * 0.75)\n",
    "x_train = data[features][:n]\n",
    "y_train = data[target][:n].values.ravel()\n",
    "\n",
    "x_test = data[features][n:]\n",
    "y_test = data[target][n:].values.ravel()\n",
    "\n",
    "k = x_train.shape[1]\n",
    "print(\"Total number of observations: \", data.shape[0])\n",
    "print(\"Train: {}{}, \\nTest: {}{}\".format(x_train.shape, y_train.shape, x_test.shape, y_test.shape))"
   ]
  },
  {
   "cell_type": "code",
   "execution_count": 356,
   "id": "38f4940d",
   "metadata": {},
   "outputs": [
    {
     "data": {
      "text/plain": [
       "Index(['demand', 'temp_max', 'temp_min', 'temp_avg', 'temp_departure', 'HDD',\n",
       "       'CDD', 'precipitation', 'new_snow', 'snow_depth', 'class', 'dayoff',\n",
       "       'Friday', 'Monday', 'Saturday', 'Sunday', 'Thursday', 'Tuesday',\n",
       "       'Wedesday', 'Wednesday', 'q10', 'q50', 'q90', 'ma30', 'ma90'],\n",
       "      dtype='object')"
      ]
     },
     "execution_count": 356,
     "metadata": {},
     "output_type": "execute_result"
    }
   ],
   "source": [
    "data.columns\n"
   ]
  },
  {
   "cell_type": "code",
   "execution_count": 357,
   "id": "7ccd2a3f",
   "metadata": {},
   "outputs": [
    {
     "data": {
      "image/png": "[encoded data removed]",
      "text/plain": [
       "<Figure size 432x288 with 1 Axes>"
      ]
     },
     "metadata": {
      "needs_background": "light"
     },
     "output_type": "display_data"
    }
   ],
   "source": [
    "plt.plot(x_train.index, y_train, label=\"train\")\n",
    "plt.plot(x_test.index, y_test, label=\"test\")\n",
    "plt.title(\"Train/Test split\")\n",
    "plt.xticks(rotation=45)\n",
    "plt.show()"
   ]
  },
  {
   "cell_type": "markdown",
   "id": "62e8b995",
   "metadata": {},
   "source": [
    "### Model 1: Linear Regression"
   ]
  },
  {
   "cell_type": "code",
   "execution_count": 358,
   "id": "307d4dfc",
   "metadata": {},
   "outputs": [
    {
     "data": {
      "text/plain": [
       "0"
      ]
     },
     "execution_count": 358,
     "metadata": {},
     "output_type": "execute_result"
    }
   ],
   "source": [
    "x_train.isnull().sum().sum()\n"
   ]
  },
  {
   "cell_type": "code",
   "execution_count": 359,
   "id": "3496d8ab",
   "metadata": {},
   "outputs": [
    {
     "name": "stdout",
     "output_type": "stream",
     "text": [
      "Train RMSE: 0.4446709928373968\n",
      "Test RMSE: 0.6625564830045476\n"
     ]
    }
   ],
   "source": [
    "from sklearn.linear_model import LinearRegression\n",
    "from sklearn.metrics import mean_squared_error\n",
    "\n",
    "reg = LinearRegression().fit(x_train, y_train)\n",
    "p_train_lr = reg.predict(x_train)\n",
    "p_test_lr = reg.predict(x_test)\n",
    "\n",
    "RMSE_train = np.sqrt(mean_squared_error(y_train, p_train_lr))\n",
    "RMSE_test = np.sqrt(mean_squared_error(y_test, p_test_lr))\n",
    "\n",
    "print(f'Train RMSE: {RMSE_train}\\nTest RMSE: {RMSE_test}')\n"
   ]
  },
  {
   "cell_type": "code",
   "execution_count": 360,
   "id": "734e3977",
   "metadata": {},
   "outputs": [
    {
     "data": {
      "image/png": "[encoded data removed]",
      "text/plain": [
       "<Figure size 432x288 with 1 Axes>"
      ]
     },
     "metadata": {
      "needs_background": "light"
     },
     "output_type": "display_data"
    }
   ],
   "source": [
    "plt.scatter(y=y_train, x=p_train_lr, label='train')\n",
    "plt.scatter(y=y_test, x=p_test_lr, label='test')\n",
    "plt.plot([p_train_lr.min(), p_train_lr.max()], [p_train_lr.min(), p_train_lr.max()], '--r')\n",
    "plt.title('Linear Regression: 1-period ahead Actual vs Forecasting')\n",
    "plt.ylabel('Actual')\n",
    "plt.xlabel('Forecast')\n",
    "plt.legend()\n",
    "plt.show()"
   ]
  },
  {
   "cell_type": "markdown",
   "id": "5c27fbe1",
   "metadata": {},
   "source": [
    "### Model 2: Random Forest Regressor"
   ]
  },
  {
   "cell_type": "code",
   "execution_count": 361,
   "id": "206b67f1",
   "metadata": {},
   "outputs": [
    {
     "name": "stdout",
     "output_type": "stream",
     "text": [
      "Train RMSE: 0.2771630884483108\n",
      "Test RMSE: 0.7171222063380555\n"
     ]
    }
   ],
   "source": [
    "from sklearn.ensemble import RandomForestRegressor\n",
    "rfr = RandomForestRegressor(n_estimators=400, max_depth=5, random_state=10086).fit(x_train, y_train)\n",
    "p_train_rfr = rfr.predict(x_train)\n",
    "p_test_rfr = rfr.predict(x_test)\n",
    "\n",
    "RMSE_train = np.sqrt(mean_squared_error(y_train, p_train_rfr))\n",
    "RMSE_test = np.sqrt(mean_squared_error(y_test, p_test_rfr))\n",
    "\n",
    "print(f'Train RMSE: {RMSE_train}\\nTest RMSE: {RMSE_test}')\n"
   ]
  },
  {
   "cell_type": "code",
   "execution_count": 362,
   "id": "71da7988",
   "metadata": {},
   "outputs": [
    {
     "data": {
      "image/png": "[encoded data removed]",
      "text/plain": [
       "<Figure size 432x288 with 1 Axes>"
      ]
     },
     "metadata": {
      "needs_background": "light"
     },
     "output_type": "display_data"
    }
   ],
   "source": [
    "importances = rfr.feature_importances_\n",
    "\n",
    "sorted_index = np.argsort(importances)[::-1]\n",
    "sorted_index_top = sorted_index[:20]\n",
    "x = range(len(sorted_index_top))\n",
    "\n",
    "labels = np.array(features)[sorted_index_top]\n",
    "plt.bar(x, importances[sorted_index_top], tick_label=labels)\n",
    "plt.title(\"Feature Importance Analyisis\")\n",
    "plt.xticks(rotation=45)\n",
    "plt.show()"
   ]
  },
  {
   "cell_type": "code",
   "execution_count": 363,
   "id": "51b686b1",
   "metadata": {},
   "outputs": [
    {
     "data": {
      "image/png": "[encoded data removed]",
      "text/plain": [
       "<Figure size 432x288 with 1 Axes>"
      ]
     },
     "metadata": {
      "needs_background": "light"
     },
     "output_type": "display_data"
    }
   ],
   "source": [
    "plt.scatter(y=y_train, x=p_train_rfr, label='train')\n",
    "plt.scatter(y=y_test, x=p_test_rfr, label='test')\n",
    "plt.plot([p_train_rfr.min(), p_train_rfr.max()], [p_train_rfr.min(), p_train_rfr.max()], '--r')\n",
    "\n",
    "plt.title('Random Forest: 1-period ahead Actual vs Forecasting')\n",
    "plt.ylabel('Actual')\n",
    "plt.xlabel('Forecast')\n",
    "plt.legend()\n",
    "plt.show()"
   ]
  },
  {
   "cell_type": "markdown",
   "id": "cb96fb93",
   "metadata": {},
   "source": [
    "### Model 3: Multi-layer Perceptron regressor"
   ]
  },
  {
   "cell_type": "code",
   "execution_count": 364,
   "id": "cff509c6",
   "metadata": {},
   "outputs": [
    {
     "name": "stdout",
     "output_type": "stream",
     "text": [
      "Train RMSE: 0.2928840200082186\n",
      "Test RMSE: 0.7619812231503591\n"
     ]
    }
   ],
   "source": [
    "from sklearn.neural_network import MLPRegressor\n",
    "mlp = MLPRegressor(hidden_layer_sizes=(5, 3), solver='lbfgs', max_iter=10000, random_state=10086).fit(x_train, y_train)\n",
    "p_train_mlp = mlp.predict(x_train)\n",
    "p_test_mlp = mlp.predict(x_test)\n",
    "\n",
    "RMSE_train = np.sqrt(mean_squared_error(y_train, p_train_mlp))\n",
    "RMSE_test = np.sqrt(mean_squared_error(y_test, p_test_mlp))\n",
    "\n",
    "print(f'Train RMSE: {RMSE_train}\\nTest RMSE: {RMSE_test}')\n"
   ]
  },
  {
   "cell_type": "code",
   "execution_count": 365,
   "id": "55cafe85",
   "metadata": {},
   "outputs": [
    {
     "data": {
      "image/png": "[encoded data removed]",
      "text/plain": [
       "<Figure size 432x288 with 1 Axes>"
      ]
     },
     "metadata": {
      "needs_background": "light"
     },
     "output_type": "display_data"
    }
   ],
   "source": [
    "plt.scatter(y=y_train, x=p_train_mlp, label='train')\n",
    "plt.scatter(y=y_test, x=p_test_mlp, label='test')\n",
    "plt.plot([p_test_mlp.min(), p_test_mlp.max()], [p_test_mlp.min(), p_test_mlp.max()], '--r')\n",
    "\n",
    "plt.title('MLP: 1-period ahead Actual vs Forecasting')\n",
    "plt.ylabel('Actual')\n",
    "plt.xlabel('Forecast')\n",
    "plt.legend()\n",
    "plt.show()"
   ]
  },
  {
   "cell_type": "code",
   "execution_count": 366,
   "id": "c36eca51",
   "metadata": {},
   "outputs": [
    {
     "name": "stdout",
     "output_type": "stream",
     "text": [
      "R^2 score of Linear Regression model: 0.3933650697833798\n",
      "R^2 score of Random Forest model: 0.2893300699802286\n",
      "R^2 score of MLP model: 0.19763839787706927\n"
     ]
    }
   ],
   "source": [
    "from sklearn.metrics import r2_score\n",
    "\n",
    "print(f'R^2 score of Linear Regression model: {r2_score(y_test, p_test_lr)}')\n",
    "print(f'R^2 score of Random Forest model: {r2_score(y_test, p_test_rfr)}')\n",
    "print(f'R^2 score of MLP model: {r2_score(y_test, p_test_mlp)}')"
   ]
  },
  {
   "cell_type": "code",
   "execution_count": null,
   "id": "11ad04dd",
   "metadata": {},
   "outputs": [],
   "source": []
  },
  {
   "cell_type": "code",
   "execution_count": null,
   "id": "c188cc09",
   "metadata": {},
   "outputs": [],
   "source": []
  },
  {
   "cell_type": "code",
   "execution_count": null,
   "id": "cf1f4b6c",
   "metadata": {},
   "outputs": [],
   "source": []
  }
 ],
 "metadata": {
  "kernelspec": {
   "display_name": "Python 3 (ipykernel)",
   "language": "python",
   "name": "python3"
  },
  "language_info": {
   "codemirror_mode": {
    "name": "ipython",
    "version": 3
   },
   "file_extension": ".py",
   "mimetype": "text/x-python",
   "name": "python",
   "nbconvert_exporter": "python",
   "pygments_lexer": "ipython3",
   "version": "3.8.11"
  }
 },
 "nbformat": 4,
 "nbformat_minor": 5
}
